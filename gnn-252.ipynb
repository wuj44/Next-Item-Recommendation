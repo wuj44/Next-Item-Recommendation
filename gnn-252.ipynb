{
 "cells": [
  {
   "cell_type": "code",
   "execution_count": 1,
   "id": "c8fc93a7",
   "metadata": {},
   "outputs": [],
   "source": [
    "import warnings\n",
    "warnings.simplefilter('ignore')\n",
    "\n",
    "import gc\n",
    "import re\n",
    "from collections import defaultdict, Counter\n",
    "\n",
    "import numpy as np\n",
    "import pandas as pd\n",
    "pd.set_option('display.max_columns', None)\n",
    "from tqdm.auto import tqdm"
   ]
  },
  {
   "attachments": {},
   "cell_type": "markdown",
   "id": "dd4f5d22",
   "metadata": {},
   "source": [
    "## Get Session Info"
   ]
  },
  {
   "cell_type": "code",
   "execution_count": 2,
   "id": "1669a770",
   "metadata": {},
   "outputs": [],
   "source": [
    "df_sess = pd.read_csv('sessions_train.csv')\n",
    "df_sess = df_sess[df_sess['locale']=='UK'][:5000]"
   ]
  },
  {
   "cell_type": "code",
   "execution_count": 4,
   "id": "c657c723",
   "metadata": {},
   "outputs": [],
   "source": [
    "def str2list(x):\n",
    "    x = x.replace('[', '').replace(']', '').replace(\"'\", '').replace('\\n', ' ').replace('\\r', ' ')\n",
    "    l = [i for i in x.split() if i]\n",
    "    return l"
   ]
  },
  {
   "cell_type": "code",
   "execution_count": 5,
   "id": "b03050f4",
   "metadata": {},
   "outputs": [
    {
     "name": "stderr",
     "output_type": "stream",
     "text": [
      "100%|████████████████████████████████████| 5000/5000 [00:00<00:00, 20785.18it/s]\n"
     ]
    }
   ],
   "source": [
    "next_item_dict = defaultdict(list)\n",
    "\n",
    "for _, row in tqdm(df_sess.iterrows(), total=len(df_sess)):\n",
    "    prev_items = str2list(row['prev_items'])\n",
    "    next_item = row['next_item']\n",
    "    prev_items_length = len(prev_items)\n",
    "    if prev_items_length <= 1:\n",
    "        next_item_dict[prev_items[0]].append(next_item)\n",
    "    else:\n",
    "        for i, item in enumerate(prev_items[:-1]):\n",
    "            next_item_dict[item].append(prev_items[i+1])\n",
    "        next_item_dict[prev_items[-1]].append(next_item)"
   ]
  },
  {
   "cell_type": "code",
   "execution_count": 6,
   "id": "698ef7d3",
   "metadata": {},
   "outputs": [],
   "source": [
    "# next_item_dict"
   ]
  },
  {
   "cell_type": "code",
   "execution_count": 9,
   "id": "7b52d84c",
   "metadata": {},
   "outputs": [
    {
     "data": {
      "text/html": [
       "<div>\n",
       "<style scoped>\n",
       "    .dataframe tbody tr th:only-of-type {\n",
       "        vertical-align: middle;\n",
       "    }\n",
       "\n",
       "    .dataframe tbody tr th {\n",
       "        vertical-align: top;\n",
       "    }\n",
       "\n",
       "    .dataframe thead th {\n",
       "        text-align: right;\n",
       "    }\n",
       "</style>\n",
       "<table border=\"1\" class=\"dataframe\">\n",
       "  <thead>\n",
       "    <tr style=\"text-align: right;\">\n",
       "      <th></th>\n",
       "      <th>item</th>\n",
       "      <th>next_item</th>\n",
       "    </tr>\n",
       "  </thead>\n",
       "  <tbody>\n",
       "    <tr>\n",
       "      <th>0</th>\n",
       "      <td>B0BFDL54Y7</td>\n",
       "      <td>B0BFDR9X13</td>\n",
       "    </tr>\n",
       "    <tr>\n",
       "      <th>1</th>\n",
       "      <td>B0BFDR9X13</td>\n",
       "      <td>B07J4WF8VH</td>\n",
       "    </tr>\n",
       "    <tr>\n",
       "      <th>2</th>\n",
       "      <td>B07J4WF8VH</td>\n",
       "      <td>B07Y21LDJX</td>\n",
       "    </tr>\n",
       "    <tr>\n",
       "      <th>3</th>\n",
       "      <td>B07Y21LDJX</td>\n",
       "      <td>B07Y227WNJ</td>\n",
       "    </tr>\n",
       "    <tr>\n",
       "      <th>4</th>\n",
       "      <td>B07FM2GLNQ</td>\n",
       "      <td>B07GZW3P4W</td>\n",
       "    </tr>\n",
       "    <tr>\n",
       "      <th>...</th>\n",
       "      <td>...</td>\n",
       "      <td>...</td>\n",
       "    </tr>\n",
       "    <tr>\n",
       "      <th>35770</th>\n",
       "      <td>B0813XRBQG</td>\n",
       "      <td>B000J69D12</td>\n",
       "    </tr>\n",
       "    <tr>\n",
       "      <th>35771</th>\n",
       "      <td>B08MW1FYMT</td>\n",
       "      <td>B07XV9Q6VR</td>\n",
       "    </tr>\n",
       "    <tr>\n",
       "      <th>35772</th>\n",
       "      <td>B07XV9Q6VR</td>\n",
       "      <td>B0B47JKF4V</td>\n",
       "    </tr>\n",
       "    <tr>\n",
       "      <th>35773</th>\n",
       "      <td>B0B47JKF4V</td>\n",
       "      <td>B09GSHBNBL</td>\n",
       "    </tr>\n",
       "    <tr>\n",
       "      <th>35774</th>\n",
       "      <td>B09GSHBNBL</td>\n",
       "      <td>B09C8P2SNV</td>\n",
       "    </tr>\n",
       "  </tbody>\n",
       "</table>\n",
       "<p>35775 rows × 2 columns</p>\n",
       "</div>"
      ],
      "text/plain": [
       "             item   next_item\n",
       "0      B0BFDL54Y7  B0BFDR9X13\n",
       "1      B0BFDR9X13  B07J4WF8VH\n",
       "2      B07J4WF8VH  B07Y21LDJX\n",
       "3      B07Y21LDJX  B07Y227WNJ\n",
       "4      B07FM2GLNQ  B07GZW3P4W\n",
       "...           ...         ...\n",
       "35770  B0813XRBQG  B000J69D12\n",
       "35771  B08MW1FYMT  B07XV9Q6VR\n",
       "35772  B07XV9Q6VR  B0B47JKF4V\n",
       "35773  B0B47JKF4V  B09GSHBNBL\n",
       "35774  B09GSHBNBL  B09C8P2SNV\n",
       "\n",
       "[35775 rows x 2 columns]"
      ]
     },
     "execution_count": 9,
     "metadata": {},
     "output_type": "execute_result"
    }
   ],
   "source": [
    "k = []\n",
    "v = []\n",
    "\n",
    "for item in next_item_dict:\n",
    "    k.append(item)\n",
    "    v.append(next_item_dict[item])\n",
    "    \n",
    "df_next = pd.DataFrame({'item': k, 'next_item': v})\n",
    "df_next = df_next.explode('next_item').reset_index(drop=True)\n",
    "df_next"
   ]
  },
  {
   "cell_type": "code",
   "execution_count": 10,
   "id": "74737be3",
   "metadata": {},
   "outputs": [
    {
     "data": {
      "text/html": [
       "<div>\n",
       "<style scoped>\n",
       "    .dataframe tbody tr th:only-of-type {\n",
       "        vertical-align: middle;\n",
       "    }\n",
       "\n",
       "    .dataframe tbody tr th {\n",
       "        vertical-align: top;\n",
       "    }\n",
       "\n",
       "    .dataframe thead th {\n",
       "        text-align: right;\n",
       "    }\n",
       "</style>\n",
       "<table border=\"1\" class=\"dataframe\">\n",
       "  <thead>\n",
       "    <tr style=\"text-align: right;\">\n",
       "      <th></th>\n",
       "      <th>item</th>\n",
       "      <th>next_item</th>\n",
       "    </tr>\n",
       "  </thead>\n",
       "  <tbody>\n",
       "    <tr>\n",
       "      <th>0</th>\n",
       "      <td>B0BFDL54Y7</td>\n",
       "      <td>B0BFDR9X13</td>\n",
       "    </tr>\n",
       "    <tr>\n",
       "      <th>1</th>\n",
       "      <td>B0BFDR9X13</td>\n",
       "      <td>B07J4WF8VH</td>\n",
       "    </tr>\n",
       "    <tr>\n",
       "      <th>2</th>\n",
       "      <td>B07J4WF8VH</td>\n",
       "      <td>B07Y21LDJX</td>\n",
       "    </tr>\n",
       "    <tr>\n",
       "      <th>3</th>\n",
       "      <td>B07Y21LDJX</td>\n",
       "      <td>B07Y227WNJ</td>\n",
       "    </tr>\n",
       "    <tr>\n",
       "      <th>4</th>\n",
       "      <td>B07FM2GLNQ</td>\n",
       "      <td>B07GZW3P4W</td>\n",
       "    </tr>\n",
       "  </tbody>\n",
       "</table>\n",
       "</div>"
      ],
      "text/plain": [
       "         item   next_item\n",
       "0  B0BFDL54Y7  B0BFDR9X13\n",
       "1  B0BFDR9X13  B07J4WF8VH\n",
       "2  B07J4WF8VH  B07Y21LDJX\n",
       "3  B07Y21LDJX  B07Y227WNJ\n",
       "4  B07FM2GLNQ  B07GZW3P4W"
      ]
     },
     "execution_count": 10,
     "metadata": {},
     "output_type": "execute_result"
    }
   ],
   "source": [
    "df_next.head()"
   ]
  },
  {
   "cell_type": "code",
   "execution_count": 12,
   "id": "2ae42f1f",
   "metadata": {},
   "outputs": [],
   "source": [
    "dt = df_next[['item', 'next_item']].value_counts().to_frame().rename(columns={0: 'weight'}).reset_index()"
   ]
  },
  {
   "cell_type": "code",
   "execution_count": 14,
   "id": "7e4f3522",
   "metadata": {},
   "outputs": [
    {
     "data": {
      "text/html": [
       "<div>\n",
       "<style scoped>\n",
       "    .dataframe tbody tr th:only-of-type {\n",
       "        vertical-align: middle;\n",
       "    }\n",
       "\n",
       "    .dataframe tbody tr th {\n",
       "        vertical-align: top;\n",
       "    }\n",
       "\n",
       "    .dataframe thead th {\n",
       "        text-align: right;\n",
       "    }\n",
       "</style>\n",
       "<table border=\"1\" class=\"dataframe\">\n",
       "  <thead>\n",
       "    <tr style=\"text-align: right;\">\n",
       "      <th></th>\n",
       "      <th>item</th>\n",
       "      <th>next_item</th>\n",
       "      <th>weight</th>\n",
       "    </tr>\n",
       "  </thead>\n",
       "  <tbody>\n",
       "    <tr>\n",
       "      <th>0</th>\n",
       "      <td>B08PKLFM9T</td>\n",
       "      <td>B08F2NDB39</td>\n",
       "      <td>14</td>\n",
       "    </tr>\n",
       "    <tr>\n",
       "      <th>1</th>\n",
       "      <td>B077L4Y11C</td>\n",
       "      <td>B076VDGMNR</td>\n",
       "      <td>10</td>\n",
       "    </tr>\n",
       "    <tr>\n",
       "      <th>2</th>\n",
       "      <td>B08KFHDPY9</td>\n",
       "      <td>B0851KN668</td>\n",
       "      <td>10</td>\n",
       "    </tr>\n",
       "    <tr>\n",
       "      <th>3</th>\n",
       "      <td>B07KWYGTC6</td>\n",
       "      <td>B07KX2N355</td>\n",
       "      <td>10</td>\n",
       "    </tr>\n",
       "    <tr>\n",
       "      <th>4</th>\n",
       "      <td>B076VDGMNR</td>\n",
       "      <td>B07H796FNF</td>\n",
       "      <td>9</td>\n",
       "    </tr>\n",
       "  </tbody>\n",
       "</table>\n",
       "</div>"
      ],
      "text/plain": [
       "         item   next_item  weight\n",
       "0  B08PKLFM9T  B08F2NDB39      14\n",
       "1  B077L4Y11C  B076VDGMNR      10\n",
       "2  B08KFHDPY9  B0851KN668      10\n",
       "3  B07KWYGTC6  B07KX2N355      10\n",
       "4  B076VDGMNR  B07H796FNF       9"
      ]
     },
     "execution_count": 14,
     "metadata": {},
     "output_type": "execute_result"
    }
   ],
   "source": [
    "dt.head()"
   ]
  },
  {
   "attachments": {},
   "cell_type": "markdown",
   "id": "a5d79b94",
   "metadata": {},
   "source": [
    "## Combine Session Info and Product Info"
   ]
  },
  {
   "cell_type": "code",
   "execution_count": 17,
   "id": "f8a7faa1",
   "metadata": {},
   "outputs": [],
   "source": [
    "products_final = pd.read_csv('products_final2.csv', index_col='id')"
   ]
  },
  {
   "cell_type": "code",
   "execution_count": 18,
   "id": "81846682",
   "metadata": {},
   "outputs": [
    {
     "data": {
      "text/html": [
       "<div>\n",
       "<style scoped>\n",
       "    .dataframe tbody tr th:only-of-type {\n",
       "        vertical-align: middle;\n",
       "    }\n",
       "\n",
       "    .dataframe tbody tr th {\n",
       "        vertical-align: top;\n",
       "    }\n",
       "\n",
       "    .dataframe thead th {\n",
       "        text-align: right;\n",
       "    }\n",
       "</style>\n",
       "<table border=\"1\" class=\"dataframe\">\n",
       "  <thead>\n",
       "    <tr style=\"text-align: right;\">\n",
       "      <th></th>\n",
       "      <th>item</th>\n",
       "      <th>combined_embedding_pca</th>\n",
       "    </tr>\n",
       "  </thead>\n",
       "  <tbody>\n",
       "    <tr>\n",
       "      <th>0</th>\n",
       "      <td>B087LZNPHS</td>\n",
       "      <td>[4.039271368332172, -0.6527305027124629, 2.721...</td>\n",
       "    </tr>\n",
       "    <tr>\n",
       "      <th>1</th>\n",
       "      <td>B08THFN1KX</td>\n",
       "      <td>[0.9689579416102252, -2.264874936071531, 3.204...</td>\n",
       "    </tr>\n",
       "    <tr>\n",
       "      <th>2</th>\n",
       "      <td>0804185328</td>\n",
       "      <td>[-2.8264712242074497, 1.0217084708044923, -5.7...</td>\n",
       "    </tr>\n",
       "    <tr>\n",
       "      <th>3</th>\n",
       "      <td>B09VBKDBW6</td>\n",
       "      <td>[-3.880455527603429, -0.0799160960453152, -1.3...</td>\n",
       "    </tr>\n",
       "    <tr>\n",
       "      <th>4</th>\n",
       "      <td>B096ZW8B49</td>\n",
       "      <td>[-4.762424174184446, -3.123900524163788, 1.614...</td>\n",
       "    </tr>\n",
       "    <tr>\n",
       "      <th>...</th>\n",
       "      <td>...</td>\n",
       "      <td>...</td>\n",
       "    </tr>\n",
       "    <tr>\n",
       "      <th>500175</th>\n",
       "      <td>B08D7KW8VK</td>\n",
       "      <td>[6.313017193849209, 1.4582114182372052, 5.1177...</td>\n",
       "    </tr>\n",
       "    <tr>\n",
       "      <th>500176</th>\n",
       "      <td>B073WXLXR9</td>\n",
       "      <td>[3.381486509047898, -0.5125668660527173, -2.40...</td>\n",
       "    </tr>\n",
       "    <tr>\n",
       "      <th>500177</th>\n",
       "      <td>1529393833</td>\n",
       "      <td>[2.4607237564285893, 0.2659599673310411, -2.24...</td>\n",
       "    </tr>\n",
       "    <tr>\n",
       "      <th>500178</th>\n",
       "      <td>B0B3TJ1NDN</td>\n",
       "      <td>[-8.525614774131284, -7.50096378271608, 1.4920...</td>\n",
       "    </tr>\n",
       "    <tr>\n",
       "      <th>500179</th>\n",
       "      <td>B00HUBEG3Y</td>\n",
       "      <td>[12.080597083161685, -2.142415321087104, -0.59...</td>\n",
       "    </tr>\n",
       "  </tbody>\n",
       "</table>\n",
       "<p>500180 rows × 2 columns</p>\n",
       "</div>"
      ],
      "text/plain": [
       "              item                             combined_embedding_pca\n",
       "0       B087LZNPHS  [4.039271368332172, -0.6527305027124629, 2.721...\n",
       "1       B08THFN1KX  [0.9689579416102252, -2.264874936071531, 3.204...\n",
       "2       0804185328  [-2.8264712242074497, 1.0217084708044923, -5.7...\n",
       "3       B09VBKDBW6  [-3.880455527603429, -0.0799160960453152, -1.3...\n",
       "4       B096ZW8B49  [-4.762424174184446, -3.123900524163788, 1.614...\n",
       "...            ...                                                ...\n",
       "500175  B08D7KW8VK  [6.313017193849209, 1.4582114182372052, 5.1177...\n",
       "500176  B073WXLXR9  [3.381486509047898, -0.5125668660527173, -2.40...\n",
       "500177  1529393833  [2.4607237564285893, 0.2659599673310411, -2.24...\n",
       "500178  B0B3TJ1NDN  [-8.525614774131284, -7.50096378271608, 1.4920...\n",
       "500179  B00HUBEG3Y  [12.080597083161685, -2.142415321087104, -0.59...\n",
       "\n",
       "[500180 rows x 2 columns]"
      ]
     },
     "execution_count": 18,
     "metadata": {},
     "output_type": "execute_result"
    }
   ],
   "source": [
    "combined_embeddings = np.column_stack([products_final[i].values for i in products_final.columns])\n",
    "df = pd.DataFrame()\n",
    "df['item'] = products_final.index\n",
    "df['combined_embedding_pca'] = list(combined_embeddings)\n",
    "df"
   ]
  },
  {
   "cell_type": "code",
   "execution_count": 19,
   "id": "78a45d64",
   "metadata": {},
   "outputs": [],
   "source": [
    "da = dt.merge(df, how = 'left', on='item')\n",
    "da = da.merge(df, how = 'left', left_on='next_item', right_on='item')"
   ]
  },
  {
   "cell_type": "code",
   "execution_count": 20,
   "id": "963b7e23",
   "metadata": {},
   "outputs": [],
   "source": [
    "da = da[['item_x', 'next_item', 'weight', 'combined_embedding_pca_x', 'combined_embedding_pca_y']]\n",
    "da = da.rename(columns={'item_x':'source', 'next_item':'target', 'combined_embedding_pca_x':'combined_embedding_pca_source', 'combined_embedding_pca_y':'combined_embedding_pca_target'})"
   ]
  },
  {
   "cell_type": "code",
   "execution_count": 21,
   "id": "6f64d260",
   "metadata": {},
   "outputs": [
    {
     "data": {
      "text/plain": [
       "source                           0.0\n",
       "target                           0.0\n",
       "weight                           0.0\n",
       "combined_embedding_pca_source    0.0\n",
       "combined_embedding_pca_target    0.0\n",
       "dtype: float64"
      ]
     },
     "execution_count": 21,
     "metadata": {},
     "output_type": "execute_result"
    }
   ],
   "source": [
    "da.isna().sum()/len(da)"
   ]
  },
  {
   "cell_type": "code",
   "execution_count": 22,
   "id": "e7325409",
   "metadata": {},
   "outputs": [
    {
     "data": {
      "text/html": [
       "<div>\n",
       "<style scoped>\n",
       "    .dataframe tbody tr th:only-of-type {\n",
       "        vertical-align: middle;\n",
       "    }\n",
       "\n",
       "    .dataframe tbody tr th {\n",
       "        vertical-align: top;\n",
       "    }\n",
       "\n",
       "    .dataframe thead th {\n",
       "        text-align: right;\n",
       "    }\n",
       "</style>\n",
       "<table border=\"1\" class=\"dataframe\">\n",
       "  <thead>\n",
       "    <tr style=\"text-align: right;\">\n",
       "      <th></th>\n",
       "      <th>source</th>\n",
       "      <th>target</th>\n",
       "      <th>weight</th>\n",
       "      <th>combined_embedding_pca_source</th>\n",
       "      <th>combined_embedding_pca_target</th>\n",
       "    </tr>\n",
       "  </thead>\n",
       "  <tbody>\n",
       "    <tr>\n",
       "      <th>0</th>\n",
       "      <td>B08PKLFM9T</td>\n",
       "      <td>B08F2NDB39</td>\n",
       "      <td>14</td>\n",
       "      <td>[-8.404405953458218, -9.375031826382688, -1.53...</td>\n",
       "      <td>[-8.539231755832454, -9.303483563610223, -1.36...</td>\n",
       "    </tr>\n",
       "    <tr>\n",
       "      <th>1</th>\n",
       "      <td>B077L4Y11C</td>\n",
       "      <td>B076VDGMNR</td>\n",
       "      <td>10</td>\n",
       "      <td>[1.2220793232764304, 2.022893734154159, 11.554...</td>\n",
       "      <td>[1.067575509942718, 1.4748413211489186, 12.157...</td>\n",
       "    </tr>\n",
       "    <tr>\n",
       "      <th>2</th>\n",
       "      <td>B08KFHDPY9</td>\n",
       "      <td>B0851KN668</td>\n",
       "      <td>10</td>\n",
       "      <td>[5.768026466881847, 2.9701240711536983, 8.2145...</td>\n",
       "      <td>[4.441227159820258, 5.342169353738097, 5.31457...</td>\n",
       "    </tr>\n",
       "    <tr>\n",
       "      <th>3</th>\n",
       "      <td>B07KWYGTC6</td>\n",
       "      <td>B07KX2N355</td>\n",
       "      <td>10</td>\n",
       "      <td>[-10.07698234433678, -2.5829571901547728, -2.0...</td>\n",
       "      <td>[-6.021827986651372, -3.761950348247283, -3.47...</td>\n",
       "    </tr>\n",
       "    <tr>\n",
       "      <th>4</th>\n",
       "      <td>B076VDGMNR</td>\n",
       "      <td>B07H796FNF</td>\n",
       "      <td>9</td>\n",
       "      <td>[1.067575509942718, 1.4748413211489186, 12.157...</td>\n",
       "      <td>[1.272921255112478, 2.2114844362950645, 11.867...</td>\n",
       "    </tr>\n",
       "  </tbody>\n",
       "</table>\n",
       "</div>"
      ],
      "text/plain": [
       "       source      target  weight  \\\n",
       "0  B08PKLFM9T  B08F2NDB39      14   \n",
       "1  B077L4Y11C  B076VDGMNR      10   \n",
       "2  B08KFHDPY9  B0851KN668      10   \n",
       "3  B07KWYGTC6  B07KX2N355      10   \n",
       "4  B076VDGMNR  B07H796FNF       9   \n",
       "\n",
       "                       combined_embedding_pca_source  \\\n",
       "0  [-8.404405953458218, -9.375031826382688, -1.53...   \n",
       "1  [1.2220793232764304, 2.022893734154159, 11.554...   \n",
       "2  [5.768026466881847, 2.9701240711536983, 8.2145...   \n",
       "3  [-10.07698234433678, -2.5829571901547728, -2.0...   \n",
       "4  [1.067575509942718, 1.4748413211489186, 12.157...   \n",
       "\n",
       "                       combined_embedding_pca_target  \n",
       "0  [-8.539231755832454, -9.303483563610223, -1.36...  \n",
       "1  [1.067575509942718, 1.4748413211489186, 12.157...  \n",
       "2  [4.441227159820258, 5.342169353738097, 5.31457...  \n",
       "3  [-6.021827986651372, -3.761950348247283, -3.47...  \n",
       "4  [1.272921255112478, 2.2114844362950645, 11.867...  "
      ]
     },
     "execution_count": 22,
     "metadata": {},
     "output_type": "execute_result"
    }
   ],
   "source": [
    "da.head()"
   ]
  },
  {
   "cell_type": "code",
   "execution_count": 23,
   "id": "53f8481f",
   "metadata": {},
   "outputs": [
    {
     "data": {
      "text/html": [
       "<div>\n",
       "<style scoped>\n",
       "    .dataframe tbody tr th:only-of-type {\n",
       "        vertical-align: middle;\n",
       "    }\n",
       "\n",
       "    .dataframe tbody tr th {\n",
       "        vertical-align: top;\n",
       "    }\n",
       "\n",
       "    .dataframe thead th {\n",
       "        text-align: right;\n",
       "    }\n",
       "</style>\n",
       "<table border=\"1\" class=\"dataframe\">\n",
       "  <thead>\n",
       "    <tr style=\"text-align: right;\">\n",
       "      <th></th>\n",
       "      <th>item</th>\n",
       "      <th>combined_embedding_pca</th>\n",
       "    </tr>\n",
       "  </thead>\n",
       "  <tbody>\n",
       "    <tr>\n",
       "      <th>0</th>\n",
       "      <td>B01CAQ3UPI</td>\n",
       "      <td>[-1.590069684870833, 9.47367457259633, -1.7357...</td>\n",
       "    </tr>\n",
       "    <tr>\n",
       "      <th>1</th>\n",
       "      <td>B07RYSDKRM</td>\n",
       "      <td>[-4.5083483805961935, 6.607109223883622, -6.87...</td>\n",
       "    </tr>\n",
       "    <tr>\n",
       "      <th>2</th>\n",
       "      <td>B01EX14RNC</td>\n",
       "      <td>[1.7124724534825904, 3.806230809901896, -2.635...</td>\n",
       "    </tr>\n",
       "    <tr>\n",
       "      <th>3</th>\n",
       "      <td>B09NBNG4B6</td>\n",
       "      <td>[3.812497622234386, 4.030011702622757, -1.3283...</td>\n",
       "    </tr>\n",
       "    <tr>\n",
       "      <th>4</th>\n",
       "      <td>B084KGV2VJ</td>\n",
       "      <td>[-2.452600699259748, 10.261248103760988, 0.583...</td>\n",
       "    </tr>\n",
       "    <tr>\n",
       "      <th>...</th>\n",
       "      <td>...</td>\n",
       "      <td>...</td>\n",
       "    </tr>\n",
       "    <tr>\n",
       "      <th>31084</th>\n",
       "      <td>B07FN4F7SM</td>\n",
       "      <td>[-8.398024445926852, 0.5647310709487044, -3.28...</td>\n",
       "    </tr>\n",
       "    <tr>\n",
       "      <th>31085</th>\n",
       "      <td>B09NW2D47K</td>\n",
       "      <td>[-4.169525227042755, 1.810566896092152, 2.4069...</td>\n",
       "    </tr>\n",
       "    <tr>\n",
       "      <th>31086</th>\n",
       "      <td>B06XPF6ZSH</td>\n",
       "      <td>[-6.169803304636673, -4.550688530771722, 0.333...</td>\n",
       "    </tr>\n",
       "    <tr>\n",
       "      <th>31087</th>\n",
       "      <td>B007CVCULW</td>\n",
       "      <td>[-7.293093195928278, -4.668198551604805, -4.19...</td>\n",
       "    </tr>\n",
       "    <tr>\n",
       "      <th>31088</th>\n",
       "      <td>B0813ZC86J</td>\n",
       "      <td>[11.243691902933488, 4.338671837650717, 2.0459...</td>\n",
       "    </tr>\n",
       "  </tbody>\n",
       "</table>\n",
       "<p>31089 rows × 2 columns</p>\n",
       "</div>"
      ],
      "text/plain": [
       "             item                             combined_embedding_pca\n",
       "0      B01CAQ3UPI  [-1.590069684870833, 9.47367457259633, -1.7357...\n",
       "1      B07RYSDKRM  [-4.5083483805961935, 6.607109223883622, -6.87...\n",
       "2      B01EX14RNC  [1.7124724534825904, 3.806230809901896, -2.635...\n",
       "3      B09NBNG4B6  [3.812497622234386, 4.030011702622757, -1.3283...\n",
       "4      B084KGV2VJ  [-2.452600699259748, 10.261248103760988, 0.583...\n",
       "...           ...                                                ...\n",
       "31084  B07FN4F7SM  [-8.398024445926852, 0.5647310709487044, -3.28...\n",
       "31085  B09NW2D47K  [-4.169525227042755, 1.810566896092152, 2.4069...\n",
       "31086  B06XPF6ZSH  [-6.169803304636673, -4.550688530771722, 0.333...\n",
       "31087  B007CVCULW  [-7.293093195928278, -4.668198551604805, -4.19...\n",
       "31088  B0813ZC86J  [11.243691902933488, 4.338671837650717, 2.0459...\n",
       "\n",
       "[31089 rows x 2 columns]"
      ]
     },
     "execution_count": 23,
     "metadata": {},
     "output_type": "execute_result"
    }
   ],
   "source": [
    "db = pd.DataFrame()\n",
    "db['item'] = list(set(da['source'].to_list()+da['target'].to_list()))\n",
    "db = db.merge(df, how='left', on='item')\n",
    "db"
   ]
  },
  {
   "attachments": {},
   "cell_type": "markdown",
   "id": "fca88aa9",
   "metadata": {},
   "source": [
    "## GNN"
   ]
  },
  {
   "cell_type": "code",
   "execution_count": 25,
   "id": "bc313bc0",
   "metadata": {},
   "outputs": [],
   "source": [
    "combined_embeddings_pca_source = np.array([da['combined_embedding_pca_source'][i] for i in range(len(da))])\n",
    "combined_embeddings_pca_target = np.array([da['combined_embedding_pca_target'][i] for i in range(len(da))])"
   ]
  },
  {
   "cell_type": "code",
   "execution_count": 26,
   "id": "5fb5e00d",
   "metadata": {},
   "outputs": [
    {
     "name": "stdout",
     "output_type": "stream",
     "text": [
      "Looking in indexes: https://pypi.org/simple, https://pypi.ngc.nvidia.com\n",
      "Requirement already satisfied: torch_geometric in /opt/conda/lib/python3.8/site-packages (2.3.0)\n",
      "Requirement already satisfied: psutil>=5.8.0 in /opt/conda/lib/python3.8/site-packages (from torch_geometric) (5.9.1)\n",
      "Requirement already satisfied: scikit-learn in /opt/conda/lib/python3.8/site-packages (from torch_geometric) (0.24.2)\n",
      "Requirement already satisfied: scipy in /opt/conda/lib/python3.8/site-packages (from torch_geometric) (1.6.3)\n",
      "Requirement already satisfied: tqdm in /opt/conda/lib/python3.8/site-packages (from torch_geometric) (4.64.0)\n",
      "Requirement already satisfied: requests in /opt/conda/lib/python3.8/site-packages (from torch_geometric) (2.27.1)\n",
      "Requirement already satisfied: numpy in /opt/conda/lib/python3.8/site-packages (from torch_geometric) (1.22.4)\n",
      "Requirement already satisfied: jinja2 in /opt/conda/lib/python3.8/site-packages (from torch_geometric) (3.1.2)\n",
      "Requirement already satisfied: pyparsing in /opt/conda/lib/python3.8/site-packages (from torch_geometric) (3.0.9)\n",
      "Requirement already satisfied: MarkupSafe>=2.0 in /opt/conda/lib/python3.8/site-packages (from jinja2->torch_geometric) (2.1.1)\n",
      "Requirement already satisfied: idna<4,>=2.5 in /opt/conda/lib/python3.8/site-packages (from requests->torch_geometric) (3.3)\n",
      "Requirement already satisfied: urllib3<1.27,>=1.21.1 in /opt/conda/lib/python3.8/site-packages (from requests->torch_geometric) (1.26.9)\n",
      "Requirement already satisfied: charset-normalizer~=2.0.0 in /opt/conda/lib/python3.8/site-packages (from requests->torch_geometric) (2.0.12)\n",
      "Requirement already satisfied: certifi>=2017.4.17 in /opt/conda/lib/python3.8/site-packages (from requests->torch_geometric) (2022.5.18.1)\n",
      "Requirement already satisfied: threadpoolctl>=2.0.0 in /opt/conda/lib/python3.8/site-packages (from scikit-learn->torch_geometric) (3.1.0)\n",
      "Requirement already satisfied: joblib>=0.11 in /opt/conda/lib/python3.8/site-packages (from scikit-learn->torch_geometric) (1.1.0)\n",
      "\u001b[33mWARNING: Running pip as the 'root' user can result in broken permissions and conflicting behaviour with the system package manager. It is recommended to use a virtual environment instead: https://pip.pypa.io/warnings/venv\u001b[0m\n"
     ]
    }
   ],
   "source": [
    "!pip install torch_geometric"
   ]
  },
  {
   "cell_type": "code",
   "execution_count": 27,
   "id": "e074cf54",
   "metadata": {},
   "outputs": [],
   "source": [
    "\n",
    "import torch\n",
    "from torch_geometric.data import Data\n",
    "\n",
    "# Create node features tensor\n",
    "x = torch.tensor(combined_embeddings_pca_source, dtype=torch.float)\n",
    "y = torch.tensor(combined_embeddings_pca_target, dtype=torch.float)\n",
    "\n",
    "\n",
    "# Create dictionary mapping node labels to node indices\n",
    "node_indices = {node_label: i for i, node_label in enumerate(set(da['source']).union(set(da['target'])))}\n",
    "\n",
    "\n",
    "# Create matrix of edge indices\n",
    "edge_indices = torch.tensor([(node_indices[source], node_indices[target]) for source, target in zip(da['source'], da['target'])], dtype=torch.long).t()\n",
    "\n",
    "# Create tensor of edge weights\n",
    "edge_weights = torch.tensor(da['weight'].values, dtype=torch.float)\n",
    "\n",
    "# Create PyTorch Geometric Data object with edge weights\n",
    "data = Data(x=x, edge_index=edge_indices, edge_attr=edge_weights)\n",
    "\n",
    "data.y = y\n"
   ]
  },
  {
   "cell_type": "code",
   "execution_count": 28,
   "id": "ae5ad9f7",
   "metadata": {},
   "outputs": [
    {
     "data": {
      "text/plain": [
       "Data(x=[32655, 252], edge_index=[2, 32655], edge_attr=[32655], y=[32655, 252])"
      ]
     },
     "execution_count": 28,
     "metadata": {},
     "output_type": "execute_result"
    }
   ],
   "source": [
    "data"
   ]
  },
  {
   "attachments": {},
   "cell_type": "markdown",
   "id": "8af15a53",
   "metadata": {},
   "source": [
    "### Link Prediction"
   ]
  },
  {
   "cell_type": "code",
   "execution_count": 45,
   "id": "9cbd3841",
   "metadata": {},
   "outputs": [],
   "source": [
    "from sklearn.metrics import roc_auc_score\n",
    "from torch_geometric.utils import negative_sampling\n",
    "\n",
    "\n",
    "class Net(torch.nn.Module):\n",
    "    def __init__(self, in_channels, hidden_channels, out_channels):\n",
    "        super().__init__()\n",
    "        self.conv1 = GCNConv(in_channels, hidden_channels)\n",
    "        self.conv2 = GCNConv(hidden_channels, out_channels)\n",
    "\n",
    "    def encode(self, x, edge_index):\n",
    "        x = self.conv1(x, edge_index).relu()\n",
    "        return self.conv2(x, edge_index)\n",
    "\n",
    "    def decode(self, z, edge_label_index):\n",
    "        return (z[edge_label_index[0]] * z[edge_label_index[1]]).sum(\n",
    "            dim=-1\n",
    "        )  # product of a pair of nodes on each edge\n",
    "\n",
    "    def decode_all(self, z):\n",
    "        prob_adj = z @ z.t()\n",
    "        return (prob_adj > 0).nonzero(as_tuple=False).t()\n",
    "    \n",
    "\n",
    "def train_link_predictor(\n",
    "    model, train_data, val_data, optimizer, criterion, n_epochs=100\n",
    "):\n",
    "    losses, aucs = [], []\n",
    "    for epoch in range(1, n_epochs + 1):\n",
    "\n",
    "        model.train()\n",
    "        optimizer.zero_grad()\n",
    "        z = model.encode(train_data.x, train_data.edge_index)\n",
    "\n",
    "        # sampling training negatives for every training epoch\n",
    "        neg_edge_index = negative_sampling(\n",
    "            edge_index=train_data.edge_index, num_nodes=train_data.num_nodes,\n",
    "            num_neg_samples=train_data.edge_label_index.size(1), method='sparse')\n",
    "\n",
    "        edge_label_index = torch.cat(\n",
    "            [train_data.edge_label_index, neg_edge_index],\n",
    "            dim=-1,\n",
    "        )\n",
    "        edge_label = torch.cat([\n",
    "            train_data.edge_label,\n",
    "            train_data.edge_label.new_zeros(neg_edge_index.size(1))\n",
    "        ], dim=0)\n",
    "\n",
    "        out = model.decode(z, edge_label_index).view(-1)\n",
    "        loss = criterion(out, edge_label)\n",
    "        loss.backward()\n",
    "        optimizer.step()\n",
    "        losses.append(loss.item())\n",
    "\n",
    "        val_auc = eval_link_predictor(model, val_data)\n",
    "        aucs.append(val_auc)\n",
    "\n",
    "        if epoch % 10 == 0:\n",
    "            print(f\"Epoch: {epoch:03d}, Train Loss: {loss:.3f}, Val AUC: {val_auc:.3f}\")\n",
    "\n",
    "    return model, losses, aucs\n",
    "\n",
    "\n",
    "@torch.no_grad()\n",
    "def eval_link_predictor(model, data):\n",
    "\n",
    "    model.eval()\n",
    "    z = model.encode(data.x, data.edge_index)\n",
    "    out = model.decode(z, data.edge_label_index).view(-1).sigmoid()\n",
    "\n",
    "    return roc_auc_score(data.edge_label.cpu().numpy(), out.cpu().numpy())"
   ]
  },
  {
   "cell_type": "code",
   "execution_count": 46,
   "id": "f5cc033a",
   "metadata": {},
   "outputs": [],
   "source": [
    " import torch_geometric.transforms as T\n",
    " \n",
    " split = T.RandomLinkSplit(\n",
    "     num_val=0.05,\n",
    "     num_test=0.1,\n",
    "     is_undirected=True,\n",
    "     add_negative_train_samples=False,\n",
    "     neg_sampling_ratio=1.0,\n",
    " )\n",
    "device = torch.device('cuda:1' if torch.cuda.is_available() else 'cpu')\n",
    "train_data, val_data, test_data = split(data)\n",
    "train_data, val_data, test_data = train_data.to(device), val_data.to(device), test_data.to(device)"
   ]
  },
  {
   "cell_type": "code",
   "execution_count": 48,
   "id": "f47ab182",
   "metadata": {},
   "outputs": [
    {
     "name": "stdout",
     "output_type": "stream",
     "text": [
      "Epoch: 010, Train Loss: 2.686, Val AUC: 0.568\n",
      "Epoch: 020, Train Loss: 1.458, Val AUC: 0.576\n",
      "Epoch: 030, Train Loss: 0.797, Val AUC: 0.584\n",
      "Epoch: 040, Train Loss: 0.566, Val AUC: 0.576\n",
      "Epoch: 050, Train Loss: 0.507, Val AUC: 0.562\n",
      "Epoch: 060, Train Loss: 0.486, Val AUC: 0.562\n",
      "Epoch: 070, Train Loss: 0.459, Val AUC: 0.566\n",
      "Epoch: 080, Train Loss: 0.448, Val AUC: 0.568\n",
      "Epoch: 090, Train Loss: 0.447, Val AUC: 0.570\n",
      "Epoch: 100, Train Loss: 0.428, Val AUC: 0.576\n",
      "Epoch: 110, Train Loss: 0.423, Val AUC: 0.588\n",
      "Epoch: 120, Train Loss: 0.426, Val AUC: 0.590\n",
      "Epoch: 130, Train Loss: 0.416, Val AUC: 0.592\n",
      "Epoch: 140, Train Loss: 0.416, Val AUC: 0.587\n",
      "Epoch: 150, Train Loss: 0.413, Val AUC: 0.587\n",
      "Epoch: 160, Train Loss: 0.410, Val AUC: 0.586\n",
      "Epoch: 170, Train Loss: 0.411, Val AUC: 0.579\n",
      "Epoch: 180, Train Loss: 0.409, Val AUC: 0.578\n",
      "Epoch: 190, Train Loss: 0.405, Val AUC: 0.574\n",
      "Epoch: 200, Train Loss: 0.405, Val AUC: 0.568\n",
      "Test: 0.555\n"
     ]
    }
   ],
   "source": [
    "from torch_geometric.nn import GCNConv\n",
    "model = Net(data.num_features, 256, data.num_features).to(device)\n",
    "optimizer = torch.optim.Adam(params=model.parameters(), lr=1e-2)\n",
    "criterion = torch.nn.BCEWithLogitsLoss()\n",
    "model, losses, aucs = train_link_predictor(model, train_data, val_data, optimizer, criterion, 200)\n",
    "\n",
    "test_auc = eval_link_predictor(model, test_data)\n",
    "print(f\"Test: {test_auc:.3f}\")"
   ]
  },
  {
   "cell_type": "code",
   "execution_count": 49,
   "id": "ab0a5ed2",
   "metadata": {},
   "outputs": [
    {
     "name": "stderr",
     "output_type": "stream",
     "text": [
      "findfont: Font family ['xkcd', 'xkcd Script', 'Humor Sans', 'Comic Neue', 'Comic Sans MS'] not found. Falling back to DejaVu Sans.\n"
     ]
    },
    {
     "data": {
      "image/png": "[encoded data removed]",
      "text/plain": [
       "<Figure size 432x288 with 1 Axes>"
      ]
     },
     "metadata": {
      "needs_background": "light"
     },
     "output_type": "display_data"
    }
   ],
   "source": [
    "import matplotlib.pyplot as plt\n",
    "with plt.xkcd():\n",
    "    plt.plot(losses)"
   ]
  },
  {
   "cell_type": "code",
   "execution_count": 50,
   "id": "62b1d9a8",
   "metadata": {},
   "outputs": [
    {
     "name": "stderr",
     "output_type": "stream",
     "text": [
      "findfont: Font family ['xkcd', 'xkcd Script', 'Humor Sans', 'Comic Neue', 'Comic Sans MS'] not found. Falling back to DejaVu Sans.\n"
     ]
    },
    {
     "data": {
      "image/png": "[encoded data removed]",
      "text/plain": [
       "<Figure size 640x480 with 1 Axes>"
      ]
     },
     "metadata": {},
     "output_type": "display_data"
    }
   ],
   "source": [
    "import matplotlib.pyplot as plt\n",
    "with plt.xkcd():\n",
    "    plt.plot(aucs)"
   ]
  },
  {
   "attachments": {},
   "cell_type": "markdown",
   "id": "4d008833",
   "metadata": {},
   "source": [
    "## GNN-REG"
   ]
  },
  {
   "cell_type": "code",
   "execution_count": 143,
   "id": "9b3b714b",
   "metadata": {},
   "outputs": [],
   "source": [
    "num_nodes = data.num_nodes\n",
    "indices = torch.arange(num_nodes)\n",
    "shuffled_indices = torch.randperm(num_nodes)\n",
    "\n",
    "train_indices = shuffled_indices[:int(num_nodes * 0.6)]\n",
    "val_indices = shuffled_indices[int(num_nodes * 0.6):int(num_nodes * 0.8)]\n",
    "test_indices = shuffled_indices[int(num_nodes * 0.8):]\n",
    "\n",
    "train_mask = torch.zeros(num_nodes, dtype=torch.bool)\n",
    "train_mask[train_indices] = 1\n",
    "\n",
    "val_mask = torch.zeros(num_nodes, dtype=torch.bool)\n",
    "val_mask[val_indices] = 1\n",
    "\n",
    "test_mask = torch.zeros(num_nodes, dtype=torch.bool)\n",
    "test_mask[test_indices] = 1\n",
    "\n",
    "data.train_mask = train_mask\n",
    "data.val_mask = val_mask\n",
    "data.test_mask = test_mask"
   ]
  },
  {
   "cell_type": "code",
   "execution_count": 144,
   "id": "42a9093e",
   "metadata": {},
   "outputs": [
    {
     "data": {
      "text/plain": [
       "Data(x=[32655, 448], edge_index=[2, 32655], edge_attr=[32655], y=[32655, 448], train_mask=[32655], val_mask=[32655], test_mask=[32655])"
      ]
     },
     "execution_count": 144,
     "metadata": {},
     "output_type": "execute_result"
    }
   ],
   "source": [
    "data"
   ]
  },
  {
   "cell_type": "code",
   "execution_count": 145,
   "id": "f43d2a4a",
   "metadata": {},
   "outputs": [],
   "source": [
    "import torch\n",
    "import torch.nn.functional as F\n",
    "from torch_geometric.datasets import Planetoid\n",
    "from torch_geometric.nn import GCNConv\n",
    "\n",
    "# Define the GCN model for regression\n",
    "class GCNRegression(torch.nn.Module):\n",
    "    def __init__(self, in_channels, hidden_channels, out_channels):\n",
    "        super(GCNRegression, self).__init__()\n",
    "        self.conv1 = GCNConv(in_channels, hidden_channels)\n",
    "        self.conv2 = GCNConv(hidden_channels, out_channels)\n",
    "    \n",
    "    def forward(self, x, edge_index):\n",
    "        x = self.conv1(x, edge_index)\n",
    "        x = F.relu(x)\n",
    "        x = self.conv2(x, edge_index)\n",
    "        return x\n"
   ]
  },
  {
   "cell_type": "code",
   "execution_count": 146,
   "id": "9bad4ce9",
   "metadata": {},
   "outputs": [],
   "source": [
    "# Define the training loop\n",
    "def train(model, optimizer, data):\n",
    "    model.train()\n",
    "    optimizer.zero_grad()\n",
    "    out = model(data.x, data.edge_index)\n",
    "    loss = F.mse_loss(out[data.train_mask], data.y[data.train_mask])\n",
    "    loss.backward()\n",
    "    optimizer.step()\n",
    "    return loss.item()"
   ]
  },
  {
   "cell_type": "code",
   "execution_count": 147,
   "id": "1894b9df",
   "metadata": {},
   "outputs": [
    {
     "name": "stdout",
     "output_type": "stream",
     "text": [
      "Epoch 10, Loss: 2.0116\n",
      "Epoch 20, Loss: 1.9415\n",
      "Epoch 30, Loss: 1.8751\n",
      "Epoch 40, Loss: 1.8379\n",
      "Epoch 50, Loss: 1.8141\n",
      "Epoch 60, Loss: 1.7975\n",
      "Epoch 70, Loss: 1.7855\n",
      "Epoch 80, Loss: 1.7764\n",
      "Epoch 90, Loss: 1.7693\n",
      "Epoch 100, Loss: 1.7637\n",
      "Epoch 110, Loss: 1.7592\n",
      "Epoch 120, Loss: 1.7555\n",
      "Epoch 130, Loss: 1.7525\n",
      "Epoch 140, Loss: 1.7500\n",
      "Epoch 150, Loss: 1.7478\n",
      "Epoch 160, Loss: 1.7460\n",
      "Epoch 170, Loss: 1.7446\n",
      "Epoch 180, Loss: 1.7430\n",
      "Epoch 190, Loss: 1.7416\n",
      "Epoch 200, Loss: 1.7403\n"
     ]
    }
   ],
   "source": [
    "# Load the data and model, and train the model\n",
    "device = torch.device('cuda' if torch.cuda.is_available() else 'cpu')\n",
    "data = data.to(device)\n",
    "model = GCNRegression(data.num_node_features, 256, data.num_node_features).to(device)\n",
    "optimizer = torch.optim.Adam(model.parameters(), lr=0.01, weight_decay=5e-4)\n",
    "losses=[]\n",
    "for epoch in range(1, 201):\n",
    "    loss = train(model, optimizer, data)\n",
    "    losses.append(loss)\n",
    "    if epoch%10==0:\n",
    "        print(f'Epoch {epoch}, Loss: {loss:.4f}')"
   ]
  },
  {
   "cell_type": "code",
   "execution_count": 148,
   "id": "95616934",
   "metadata": {},
   "outputs": [
    {
     "data": {
      "image/png": "[encoded data removed]",
      "text/plain": [
       "<Figure size 640x480 with 1 Axes>"
      ]
     },
     "metadata": {},
     "output_type": "display_data"
    }
   ],
   "source": [
    "import matplotlib.pyplot as plt\n",
    "with plt.xkcd():\n",
    "    plt.plot(losses)"
   ]
  },
  {
   "cell_type": "code",
   "execution_count": 149,
   "id": "331021f0",
   "metadata": {},
   "outputs": [
    {
     "name": "stdout",
     "output_type": "stream",
     "text": [
      "Test Loss: 1.8921\n"
     ]
    }
   ],
   "source": [
    "# Evaluate the model on the test set\n",
    "model.eval()\n",
    "with torch.no_grad():\n",
    "    out = model(data.x, data.edge_index)\n",
    "    test_loss = F.mse_loss(out[data.test_mask], data.y[data.test_mask])\n",
    "    print(f'Test Loss: {test_loss:.4f}')"
   ]
  },
  {
   "cell_type": "code",
   "execution_count": null,
   "id": "1ceee428",
   "metadata": {},
   "outputs": [],
   "source": []
  }
 ],
 "metadata": {
  "kernelspec": {
   "display_name": "Python 3 (ipykernel)",
   "language": "python",
   "name": "python3"
  },
  "language_info": {
   "codemirror_mode": {
    "name": "ipython",
    "version": 3
   },
   "file_extension": ".py",
   "mimetype": "text/x-python",
   "name": "python",
   "nbconvert_exporter": "python",
   "pygments_lexer": "ipython3",
   "version": "3.8.13"
  }
 },
 "nbformat": 4,
 "nbformat_minor": 5
}
