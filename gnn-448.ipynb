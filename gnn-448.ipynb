{
 "cells": [
  {
   "cell_type": "code",
   "execution_count": 1,
   "id": "d4c0fa2e",
   "metadata": {},
   "outputs": [],
   "source": [
    "import warnings\n",
    "warnings.simplefilter('ignore')\n",
    "\n",
    "import gc\n",
    "import re\n",
    "from collections import defaultdict, Counter\n",
    "\n",
    "import numpy as np\n",
    "import pandas as pd\n",
    "pd.set_option('display.max_columns', None)\n",
    "from tqdm.auto import tqdm"
   ]
  },
  {
   "cell_type": "markdown",
   "id": "cb0ddcb1",
   "metadata": {},
   "source": [
    "## Get Session Info"
   ]
  },
  {
   "cell_type": "code",
   "execution_count": 2,
   "id": "c74e4960",
   "metadata": {},
   "outputs": [],
   "source": [
    "df_sess = pd.read_csv('sessions_train.csv')\n",
    "df_sess = df_sess[df_sess['locale']=='UK'][:5000]"
   ]
  },
  {
   "cell_type": "code",
   "execution_count": 4,
   "id": "1f087a16",
   "metadata": {},
   "outputs": [],
   "source": [
    "def str2list(x):\n",
    "    x = x.replace('[', '').replace(']', '').replace(\"'\", '').replace('\\n', ' ').replace('\\r', ' ')\n",
    "    l = [i for i in x.split() if i]\n",
    "    return l"
   ]
  },
  {
   "cell_type": "code",
   "execution_count": 5,
   "id": "1a154366",
   "metadata": {},
   "outputs": [
    {
     "name": "stderr",
     "output_type": "stream",
     "text": [
      "100%|████████████████████████████████████| 5000/5000 [00:00<00:00, 20546.68it/s]\n"
     ]
    }
   ],
   "source": [
    "next_item_dict = defaultdict(list)\n",
    "\n",
    "for _, row in tqdm(df_sess.iterrows(), total=len(df_sess)):\n",
    "    prev_items = str2list(row['prev_items'])\n",
    "    next_item = row['next_item']\n",
    "    prev_items_length = len(prev_items)\n",
    "    if prev_items_length <= 1:\n",
    "        next_item_dict[prev_items[0]].append(next_item)\n",
    "    else:\n",
    "        for i, item in enumerate(prev_items[:-1]):\n",
    "            next_item_dict[item].append(prev_items[i+1])\n",
    "        next_item_dict[prev_items[-1]].append(next_item)"
   ]
  },
  {
   "cell_type": "code",
   "execution_count": 6,
   "id": "13c8d09c",
   "metadata": {},
   "outputs": [],
   "source": [
    "# next_item_dict"
   ]
  },
  {
   "cell_type": "code",
   "execution_count": 9,
   "id": "fcd3fdea",
   "metadata": {},
   "outputs": [
    {
     "data": {
      "text/html": [
       "<div>\n",
       "<style scoped>\n",
       "    .dataframe tbody tr th:only-of-type {\n",
       "        vertical-align: middle;\n",
       "    }\n",
       "\n",
       "    .dataframe tbody tr th {\n",
       "        vertical-align: top;\n",
       "    }\n",
       "\n",
       "    .dataframe thead th {\n",
       "        text-align: right;\n",
       "    }\n",
       "</style>\n",
       "<table border=\"1\" class=\"dataframe\">\n",
       "  <thead>\n",
       "    <tr style=\"text-align: right;\">\n",
       "      <th></th>\n",
       "      <th>item</th>\n",
       "      <th>next_item</th>\n",
       "    </tr>\n",
       "  </thead>\n",
       "  <tbody>\n",
       "    <tr>\n",
       "      <th>0</th>\n",
       "      <td>B0BFDL54Y7</td>\n",
       "      <td>B0BFDR9X13</td>\n",
       "    </tr>\n",
       "    <tr>\n",
       "      <th>1</th>\n",
       "      <td>B0BFDR9X13</td>\n",
       "      <td>B07J4WF8VH</td>\n",
       "    </tr>\n",
       "    <tr>\n",
       "      <th>2</th>\n",
       "      <td>B07J4WF8VH</td>\n",
       "      <td>B07Y21LDJX</td>\n",
       "    </tr>\n",
       "    <tr>\n",
       "      <th>3</th>\n",
       "      <td>B07Y21LDJX</td>\n",
       "      <td>B07Y227WNJ</td>\n",
       "    </tr>\n",
       "    <tr>\n",
       "      <th>4</th>\n",
       "      <td>B07FM2GLNQ</td>\n",
       "      <td>B07GZW3P4W</td>\n",
       "    </tr>\n",
       "    <tr>\n",
       "      <th>...</th>\n",
       "      <td>...</td>\n",
       "      <td>...</td>\n",
       "    </tr>\n",
       "    <tr>\n",
       "      <th>35770</th>\n",
       "      <td>B0813XRBQG</td>\n",
       "      <td>B000J69D12</td>\n",
       "    </tr>\n",
       "    <tr>\n",
       "      <th>35771</th>\n",
       "      <td>B08MW1FYMT</td>\n",
       "      <td>B07XV9Q6VR</td>\n",
       "    </tr>\n",
       "    <tr>\n",
       "      <th>35772</th>\n",
       "      <td>B07XV9Q6VR</td>\n",
       "      <td>B0B47JKF4V</td>\n",
       "    </tr>\n",
       "    <tr>\n",
       "      <th>35773</th>\n",
       "      <td>B0B47JKF4V</td>\n",
       "      <td>B09GSHBNBL</td>\n",
       "    </tr>\n",
       "    <tr>\n",
       "      <th>35774</th>\n",
       "      <td>B09GSHBNBL</td>\n",
       "      <td>B09C8P2SNV</td>\n",
       "    </tr>\n",
       "  </tbody>\n",
       "</table>\n",
       "<p>35775 rows × 2 columns</p>\n",
       "</div>"
      ],
      "text/plain": [
       "             item   next_item\n",
       "0      B0BFDL54Y7  B0BFDR9X13\n",
       "1      B0BFDR9X13  B07J4WF8VH\n",
       "2      B07J4WF8VH  B07Y21LDJX\n",
       "3      B07Y21LDJX  B07Y227WNJ\n",
       "4      B07FM2GLNQ  B07GZW3P4W\n",
       "...           ...         ...\n",
       "35770  B0813XRBQG  B000J69D12\n",
       "35771  B08MW1FYMT  B07XV9Q6VR\n",
       "35772  B07XV9Q6VR  B0B47JKF4V\n",
       "35773  B0B47JKF4V  B09GSHBNBL\n",
       "35774  B09GSHBNBL  B09C8P2SNV\n",
       "\n",
       "[35775 rows x 2 columns]"
      ]
     },
     "execution_count": 9,
     "metadata": {},
     "output_type": "execute_result"
    }
   ],
   "source": [
    "k = []\n",
    "v = []\n",
    "\n",
    "for item in next_item_dict:\n",
    "    k.append(item)\n",
    "    v.append(next_item_dict[item])\n",
    "    \n",
    "df_next = pd.DataFrame({'item': k, 'next_item': v})\n",
    "df_next = df_next.explode('next_item').reset_index(drop=True)\n",
    "df_next"
   ]
  },
  {
   "cell_type": "code",
   "execution_count": 10,
   "id": "8f182db3",
   "metadata": {},
   "outputs": [
    {
     "data": {
      "text/html": [
       "<div>\n",
       "<style scoped>\n",
       "    .dataframe tbody tr th:only-of-type {\n",
       "        vertical-align: middle;\n",
       "    }\n",
       "\n",
       "    .dataframe tbody tr th {\n",
       "        vertical-align: top;\n",
       "    }\n",
       "\n",
       "    .dataframe thead th {\n",
       "        text-align: right;\n",
       "    }\n",
       "</style>\n",
       "<table border=\"1\" class=\"dataframe\">\n",
       "  <thead>\n",
       "    <tr style=\"text-align: right;\">\n",
       "      <th></th>\n",
       "      <th>item</th>\n",
       "      <th>next_item</th>\n",
       "    </tr>\n",
       "  </thead>\n",
       "  <tbody>\n",
       "    <tr>\n",
       "      <th>0</th>\n",
       "      <td>B0BFDL54Y7</td>\n",
       "      <td>B0BFDR9X13</td>\n",
       "    </tr>\n",
       "    <tr>\n",
       "      <th>1</th>\n",
       "      <td>B0BFDR9X13</td>\n",
       "      <td>B07J4WF8VH</td>\n",
       "    </tr>\n",
       "    <tr>\n",
       "      <th>2</th>\n",
       "      <td>B07J4WF8VH</td>\n",
       "      <td>B07Y21LDJX</td>\n",
       "    </tr>\n",
       "    <tr>\n",
       "      <th>3</th>\n",
       "      <td>B07Y21LDJX</td>\n",
       "      <td>B07Y227WNJ</td>\n",
       "    </tr>\n",
       "    <tr>\n",
       "      <th>4</th>\n",
       "      <td>B07FM2GLNQ</td>\n",
       "      <td>B07GZW3P4W</td>\n",
       "    </tr>\n",
       "  </tbody>\n",
       "</table>\n",
       "</div>"
      ],
      "text/plain": [
       "         item   next_item\n",
       "0  B0BFDL54Y7  B0BFDR9X13\n",
       "1  B0BFDR9X13  B07J4WF8VH\n",
       "2  B07J4WF8VH  B07Y21LDJX\n",
       "3  B07Y21LDJX  B07Y227WNJ\n",
       "4  B07FM2GLNQ  B07GZW3P4W"
      ]
     },
     "execution_count": 10,
     "metadata": {},
     "output_type": "execute_result"
    }
   ],
   "source": [
    "df_next.head()"
   ]
  },
  {
   "cell_type": "code",
   "execution_count": 12,
   "id": "f4c25aea",
   "metadata": {},
   "outputs": [],
   "source": [
    "dt = df_next[['item', 'next_item']].value_counts().to_frame().rename(columns={0: 'weight'}).reset_index()"
   ]
  },
  {
   "cell_type": "code",
   "execution_count": 14,
   "id": "1439033d",
   "metadata": {},
   "outputs": [
    {
     "data": {
      "text/html": [
       "<div>\n",
       "<style scoped>\n",
       "    .dataframe tbody tr th:only-of-type {\n",
       "        vertical-align: middle;\n",
       "    }\n",
       "\n",
       "    .dataframe tbody tr th {\n",
       "        vertical-align: top;\n",
       "    }\n",
       "\n",
       "    .dataframe thead th {\n",
       "        text-align: right;\n",
       "    }\n",
       "</style>\n",
       "<table border=\"1\" class=\"dataframe\">\n",
       "  <thead>\n",
       "    <tr style=\"text-align: right;\">\n",
       "      <th></th>\n",
       "      <th>item</th>\n",
       "      <th>next_item</th>\n",
       "      <th>weight</th>\n",
       "    </tr>\n",
       "  </thead>\n",
       "  <tbody>\n",
       "    <tr>\n",
       "      <th>0</th>\n",
       "      <td>B08PKLFM9T</td>\n",
       "      <td>B08F2NDB39</td>\n",
       "      <td>14</td>\n",
       "    </tr>\n",
       "    <tr>\n",
       "      <th>1</th>\n",
       "      <td>B077L4Y11C</td>\n",
       "      <td>B076VDGMNR</td>\n",
       "      <td>10</td>\n",
       "    </tr>\n",
       "    <tr>\n",
       "      <th>2</th>\n",
       "      <td>B08KFHDPY9</td>\n",
       "      <td>B0851KN668</td>\n",
       "      <td>10</td>\n",
       "    </tr>\n",
       "    <tr>\n",
       "      <th>3</th>\n",
       "      <td>B07KWYGTC6</td>\n",
       "      <td>B07KX2N355</td>\n",
       "      <td>10</td>\n",
       "    </tr>\n",
       "    <tr>\n",
       "      <th>4</th>\n",
       "      <td>B076VDGMNR</td>\n",
       "      <td>B07H796FNF</td>\n",
       "      <td>9</td>\n",
       "    </tr>\n",
       "  </tbody>\n",
       "</table>\n",
       "</div>"
      ],
      "text/plain": [
       "         item   next_item  weight\n",
       "0  B08PKLFM9T  B08F2NDB39      14\n",
       "1  B077L4Y11C  B076VDGMNR      10\n",
       "2  B08KFHDPY9  B0851KN668      10\n",
       "3  B07KWYGTC6  B07KX2N355      10\n",
       "4  B076VDGMNR  B07H796FNF       9"
      ]
     },
     "execution_count": 14,
     "metadata": {},
     "output_type": "execute_result"
    }
   ],
   "source": [
    "dt.head()"
   ]
  },
  {
   "cell_type": "markdown",
   "id": "becd592a",
   "metadata": {},
   "source": [
    "## Combine Session Info with Product Info"
   ]
  },
  {
   "cell_type": "code",
   "execution_count": 15,
   "id": "38b209c7",
   "metadata": {},
   "outputs": [],
   "source": [
    "products_final = pd.read_csv('products_final.csv', index_col='id')"
   ]
  },
  {
   "cell_type": "code",
   "execution_count": 16,
   "id": "4130780d",
   "metadata": {},
   "outputs": [
    {
     "data": {
      "text/html": [
       "<div>\n",
       "<style scoped>\n",
       "    .dataframe tbody tr th:only-of-type {\n",
       "        vertical-align: middle;\n",
       "    }\n",
       "\n",
       "    .dataframe tbody tr th {\n",
       "        vertical-align: top;\n",
       "    }\n",
       "\n",
       "    .dataframe thead th {\n",
       "        text-align: right;\n",
       "    }\n",
       "</style>\n",
       "<table border=\"1\" class=\"dataframe\">\n",
       "  <thead>\n",
       "    <tr style=\"text-align: right;\">\n",
       "      <th></th>\n",
       "      <th>item</th>\n",
       "      <th>combined_embedding_pca</th>\n",
       "    </tr>\n",
       "  </thead>\n",
       "  <tbody>\n",
       "    <tr>\n",
       "      <th>0</th>\n",
       "      <td>B087LZNPHS</td>\n",
       "      <td>[-3.710657061456801, -1.025127521970962, 1.805...</td>\n",
       "    </tr>\n",
       "    <tr>\n",
       "      <th>1</th>\n",
       "      <td>B08THFN1KX</td>\n",
       "      <td>[3.531190102123368, -0.287150815463147, -4.571...</td>\n",
       "    </tr>\n",
       "    <tr>\n",
       "      <th>2</th>\n",
       "      <td>0804185328</td>\n",
       "      <td>[2.479327673821289, 1.451876744354406, -0.1092...</td>\n",
       "    </tr>\n",
       "    <tr>\n",
       "      <th>3</th>\n",
       "      <td>B09VBKDBW6</td>\n",
       "      <td>[-5.30176462978552, -4.888179697359907, 1.6169...</td>\n",
       "    </tr>\n",
       "    <tr>\n",
       "      <th>4</th>\n",
       "      <td>B096ZW8B49</td>\n",
       "      <td>[-3.7725240459994938, -4.362319394307887, -0.2...</td>\n",
       "    </tr>\n",
       "    <tr>\n",
       "      <th>...</th>\n",
       "      <td>...</td>\n",
       "      <td>...</td>\n",
       "    </tr>\n",
       "    <tr>\n",
       "      <th>500175</th>\n",
       "      <td>B08D7KW8VK</td>\n",
       "      <td>[-0.9095080516963407, 3.904827590015609, -0.54...</td>\n",
       "    </tr>\n",
       "    <tr>\n",
       "      <th>500176</th>\n",
       "      <td>B073WXLXR9</td>\n",
       "      <td>[-1.2420813271672726, 2.749905047185215, 0.423...</td>\n",
       "    </tr>\n",
       "    <tr>\n",
       "      <th>500177</th>\n",
       "      <td>1529393833</td>\n",
       "      <td>[0.6665658885712296, 3.454192941457756, -2.589...</td>\n",
       "    </tr>\n",
       "    <tr>\n",
       "      <th>500178</th>\n",
       "      <td>B0B3TJ1NDN</td>\n",
       "      <td>[-3.0103758034940262, -8.528207777914872, -8.7...</td>\n",
       "    </tr>\n",
       "    <tr>\n",
       "      <th>500179</th>\n",
       "      <td>B00HUBEG3Y</td>\n",
       "      <td>[-3.3970100350040777, 9.503437914489387, 1.459...</td>\n",
       "    </tr>\n",
       "  </tbody>\n",
       "</table>\n",
       "<p>500180 rows × 2 columns</p>\n",
       "</div>"
      ],
      "text/plain": [
       "              item                             combined_embedding_pca\n",
       "0       B087LZNPHS  [-3.710657061456801, -1.025127521970962, 1.805...\n",
       "1       B08THFN1KX  [3.531190102123368, -0.287150815463147, -4.571...\n",
       "2       0804185328  [2.479327673821289, 1.451876744354406, -0.1092...\n",
       "3       B09VBKDBW6  [-5.30176462978552, -4.888179697359907, 1.6169...\n",
       "4       B096ZW8B49  [-3.7725240459994938, -4.362319394307887, -0.2...\n",
       "...            ...                                                ...\n",
       "500175  B08D7KW8VK  [-0.9095080516963407, 3.904827590015609, -0.54...\n",
       "500176  B073WXLXR9  [-1.2420813271672726, 2.749905047185215, 0.423...\n",
       "500177  1529393833  [0.6665658885712296, 3.454192941457756, -2.589...\n",
       "500178  B0B3TJ1NDN  [-3.0103758034940262, -8.528207777914872, -8.7...\n",
       "500179  B00HUBEG3Y  [-3.3970100350040777, 9.503437914489387, 1.459...\n",
       "\n",
       "[500180 rows x 2 columns]"
      ]
     },
     "execution_count": 16,
     "metadata": {},
     "output_type": "execute_result"
    }
   ],
   "source": [
    "combined_embeddings = np.column_stack([products_final[i].values for i in products_final.columns])\n",
    "df = pd.DataFrame()\n",
    "df['item'] = products_final.index\n",
    "df['combined_embedding_pca'] = list(combined_embeddings)\n",
    "df"
   ]
  },
  {
   "cell_type": "code",
   "execution_count": 17,
   "id": "c24b9ae9",
   "metadata": {},
   "outputs": [],
   "source": [
    "da = dt.merge(df, how = 'left', on='item')\n",
    "da = da.merge(df, how = 'left', left_on='next_item', right_on='item')"
   ]
  },
  {
   "cell_type": "code",
   "execution_count": 18,
   "id": "87333849",
   "metadata": {},
   "outputs": [],
   "source": [
    "da = da[['item_x', 'next_item', 'weight', 'combined_embedding_pca_x', 'combined_embedding_pca_y']]\n",
    "da = da.rename(columns={'item_x':'source', 'next_item':'target', 'combined_embedding_pca_x':'combined_embedding_pca_source', 'combined_embedding_pca_y':'combined_embedding_pca_target'})"
   ]
  },
  {
   "cell_type": "code",
   "execution_count": 19,
   "id": "6d2d84fd",
   "metadata": {},
   "outputs": [
    {
     "data": {
      "text/plain": [
       "source                           0.0\n",
       "target                           0.0\n",
       "weight                           0.0\n",
       "combined_embedding_pca_source    0.0\n",
       "combined_embedding_pca_target    0.0\n",
       "dtype: float64"
      ]
     },
     "execution_count": 19,
     "metadata": {},
     "output_type": "execute_result"
    }
   ],
   "source": [
    "da.isna().sum()/len(da)"
   ]
  },
  {
   "cell_type": "code",
   "execution_count": 20,
   "id": "46897843",
   "metadata": {},
   "outputs": [
    {
     "data": {
      "text/html": [
       "<div>\n",
       "<style scoped>\n",
       "    .dataframe tbody tr th:only-of-type {\n",
       "        vertical-align: middle;\n",
       "    }\n",
       "\n",
       "    .dataframe tbody tr th {\n",
       "        vertical-align: top;\n",
       "    }\n",
       "\n",
       "    .dataframe thead th {\n",
       "        text-align: right;\n",
       "    }\n",
       "</style>\n",
       "<table border=\"1\" class=\"dataframe\">\n",
       "  <thead>\n",
       "    <tr style=\"text-align: right;\">\n",
       "      <th></th>\n",
       "      <th>source</th>\n",
       "      <th>target</th>\n",
       "      <th>weight</th>\n",
       "      <th>combined_embedding_pca_source</th>\n",
       "      <th>combined_embedding_pca_target</th>\n",
       "    </tr>\n",
       "  </thead>\n",
       "  <tbody>\n",
       "    <tr>\n",
       "      <th>0</th>\n",
       "      <td>B08PKLFM9T</td>\n",
       "      <td>B08F2NDB39</td>\n",
       "      <td>14</td>\n",
       "      <td>[-3.120695662833671, -6.146007960367222, -7.79...</td>\n",
       "      <td>[-3.4228145131627654, -6.306702157690336, -8.5...</td>\n",
       "    </tr>\n",
       "    <tr>\n",
       "      <th>1</th>\n",
       "      <td>B077L4Y11C</td>\n",
       "      <td>B076VDGMNR</td>\n",
       "      <td>10</td>\n",
       "      <td>[-1.6692556350296754, -1.653358887883875, 4.11...</td>\n",
       "      <td>[-0.4923145732807215, -0.5783600297859872, 3.9...</td>\n",
       "    </tr>\n",
       "    <tr>\n",
       "      <th>2</th>\n",
       "      <td>B08KFHDPY9</td>\n",
       "      <td>B0851KN668</td>\n",
       "      <td>10</td>\n",
       "      <td>[-1.708719452109281, 1.926557962126049, -0.766...</td>\n",
       "      <td>[-2.290786403918072, 2.010306986476631, 0.7234...</td>\n",
       "    </tr>\n",
       "    <tr>\n",
       "      <th>3</th>\n",
       "      <td>B07KWYGTC6</td>\n",
       "      <td>B07KX2N355</td>\n",
       "      <td>10</td>\n",
       "      <td>[5.123140007690672, -4.3068939649221, -3.17537...</td>\n",
       "      <td>[-0.7992513296289626, -2.328350773585829, -3.7...</td>\n",
       "    </tr>\n",
       "    <tr>\n",
       "      <th>4</th>\n",
       "      <td>B076VDGMNR</td>\n",
       "      <td>B07H796FNF</td>\n",
       "      <td>9</td>\n",
       "      <td>[-0.4923145732807215, -0.5783600297859872, 3.9...</td>\n",
       "      <td>[-1.7567443421042368, -0.8689013160611473, 3.7...</td>\n",
       "    </tr>\n",
       "  </tbody>\n",
       "</table>\n",
       "</div>"
      ],
      "text/plain": [
       "       source      target  weight  \\\n",
       "0  B08PKLFM9T  B08F2NDB39      14   \n",
       "1  B077L4Y11C  B076VDGMNR      10   \n",
       "2  B08KFHDPY9  B0851KN668      10   \n",
       "3  B07KWYGTC6  B07KX2N355      10   \n",
       "4  B076VDGMNR  B07H796FNF       9   \n",
       "\n",
       "                       combined_embedding_pca_source  \\\n",
       "0  [-3.120695662833671, -6.146007960367222, -7.79...   \n",
       "1  [-1.6692556350296754, -1.653358887883875, 4.11...   \n",
       "2  [-1.708719452109281, 1.926557962126049, -0.766...   \n",
       "3  [5.123140007690672, -4.3068939649221, -3.17537...   \n",
       "4  [-0.4923145732807215, -0.5783600297859872, 3.9...   \n",
       "\n",
       "                       combined_embedding_pca_target  \n",
       "0  [-3.4228145131627654, -6.306702157690336, -8.5...  \n",
       "1  [-0.4923145732807215, -0.5783600297859872, 3.9...  \n",
       "2  [-2.290786403918072, 2.010306986476631, 0.7234...  \n",
       "3  [-0.7992513296289626, -2.328350773585829, -3.7...  \n",
       "4  [-1.7567443421042368, -0.8689013160611473, 3.7...  "
      ]
     },
     "execution_count": 20,
     "metadata": {},
     "output_type": "execute_result"
    }
   ],
   "source": [
    "da.head()"
   ]
  },
  {
   "cell_type": "code",
   "execution_count": 21,
   "id": "70831198",
   "metadata": {},
   "outputs": [
    {
     "data": {
      "text/html": [
       "<div>\n",
       "<style scoped>\n",
       "    .dataframe tbody tr th:only-of-type {\n",
       "        vertical-align: middle;\n",
       "    }\n",
       "\n",
       "    .dataframe tbody tr th {\n",
       "        vertical-align: top;\n",
       "    }\n",
       "\n",
       "    .dataframe thead th {\n",
       "        text-align: right;\n",
       "    }\n",
       "</style>\n",
       "<table border=\"1\" class=\"dataframe\">\n",
       "  <thead>\n",
       "    <tr style=\"text-align: right;\">\n",
       "      <th></th>\n",
       "      <th>item</th>\n",
       "      <th>combined_embedding_pca</th>\n",
       "    </tr>\n",
       "  </thead>\n",
       "  <tbody>\n",
       "    <tr>\n",
       "      <th>0</th>\n",
       "      <td>B09YV4HHH5</td>\n",
       "      <td>[-0.7065882875062616, -4.408824520787836, 0.33...</td>\n",
       "    </tr>\n",
       "    <tr>\n",
       "      <th>1</th>\n",
       "      <td>B0BJVV5QSH</td>\n",
       "      <td>[2.086517517278732, 6.101709384514594, -4.0123...</td>\n",
       "    </tr>\n",
       "    <tr>\n",
       "      <th>2</th>\n",
       "      <td>B06XWXTF9R</td>\n",
       "      <td>[-3.5996432792393542, -2.652594458802295, 4.16...</td>\n",
       "    </tr>\n",
       "    <tr>\n",
       "      <th>3</th>\n",
       "      <td>B083XRZK74</td>\n",
       "      <td>[-4.479795778495036, -3.3648137219222405, 0.81...</td>\n",
       "    </tr>\n",
       "    <tr>\n",
       "      <th>4</th>\n",
       "      <td>B08HYSF5M9</td>\n",
       "      <td>[2.193212083037213, -2.3710343028983902, -3.34...</td>\n",
       "    </tr>\n",
       "    <tr>\n",
       "      <th>...</th>\n",
       "      <td>...</td>\n",
       "      <td>...</td>\n",
       "    </tr>\n",
       "    <tr>\n",
       "      <th>31084</th>\n",
       "      <td>B003WK62OS</td>\n",
       "      <td>[0.6386586669152398, -4.562024317699217, -3.27...</td>\n",
       "    </tr>\n",
       "    <tr>\n",
       "      <th>31085</th>\n",
       "      <td>B07Z3FSKST</td>\n",
       "      <td>[-7.5070731895445215, 7.895087799163001, -1.02...</td>\n",
       "    </tr>\n",
       "    <tr>\n",
       "      <th>31086</th>\n",
       "      <td>B000TAY03O</td>\n",
       "      <td>[14.967140288431942, -1.8607484386280704, 0.51...</td>\n",
       "    </tr>\n",
       "    <tr>\n",
       "      <th>31087</th>\n",
       "      <td>B087LSZF4M</td>\n",
       "      <td>[-3.858864851286965, 4.7188834415505205, -1.18...</td>\n",
       "    </tr>\n",
       "    <tr>\n",
       "      <th>31088</th>\n",
       "      <td>B09H73DBFR</td>\n",
       "      <td>[-8.13517400532203, 11.33184945529828, 3.09881...</td>\n",
       "    </tr>\n",
       "  </tbody>\n",
       "</table>\n",
       "<p>31089 rows × 2 columns</p>\n",
       "</div>"
      ],
      "text/plain": [
       "             item                             combined_embedding_pca\n",
       "0      B09YV4HHH5  [-0.7065882875062616, -4.408824520787836, 0.33...\n",
       "1      B0BJVV5QSH  [2.086517517278732, 6.101709384514594, -4.0123...\n",
       "2      B06XWXTF9R  [-3.5996432792393542, -2.652594458802295, 4.16...\n",
       "3      B083XRZK74  [-4.479795778495036, -3.3648137219222405, 0.81...\n",
       "4      B08HYSF5M9  [2.193212083037213, -2.3710343028983902, -3.34...\n",
       "...           ...                                                ...\n",
       "31084  B003WK62OS  [0.6386586669152398, -4.562024317699217, -3.27...\n",
       "31085  B07Z3FSKST  [-7.5070731895445215, 7.895087799163001, -1.02...\n",
       "31086  B000TAY03O  [14.967140288431942, -1.8607484386280704, 0.51...\n",
       "31087  B087LSZF4M  [-3.858864851286965, 4.7188834415505205, -1.18...\n",
       "31088  B09H73DBFR  [-8.13517400532203, 11.33184945529828, 3.09881...\n",
       "\n",
       "[31089 rows x 2 columns]"
      ]
     },
     "execution_count": 21,
     "metadata": {},
     "output_type": "execute_result"
    }
   ],
   "source": [
    "db = pd.DataFrame()\n",
    "db['item'] = list(set(da['source'].to_list()+da['target'].to_list()))\n",
    "db = db.merge(df, how='left', on='item')\n",
    "db"
   ]
  },
  {
   "cell_type": "code",
   "execution_count": 33,
   "id": "a93788b4",
   "metadata": {},
   "outputs": [],
   "source": [
    "combined_embeddings_pca_source = np.array([da['combined_embedding_pca_source'][i] for i in range(len(da))])\n",
    "combined_embeddings_pca_target = np.array([da['combined_embedding_pca_target'][i] for i in range(len(da))])"
   ]
  },
  {
   "cell_type": "markdown",
   "id": "e632951e",
   "metadata": {},
   "source": [
    "## GNN"
   ]
  },
  {
   "cell_type": "code",
   "execution_count": 34,
   "id": "cd2d5a68",
   "metadata": {},
   "outputs": [
    {
     "name": "stdout",
     "output_type": "stream",
     "text": [
      "Looking in indexes: https://pypi.org/simple, https://pypi.ngc.nvidia.com\n",
      "Requirement already satisfied: torch_geometric in /opt/conda/lib/python3.8/site-packages (2.3.0)\n",
      "Requirement already satisfied: numpy in /opt/conda/lib/python3.8/site-packages (from torch_geometric) (1.22.4)\n",
      "Requirement already satisfied: requests in /opt/conda/lib/python3.8/site-packages (from torch_geometric) (2.27.1)\n",
      "Requirement already satisfied: jinja2 in /opt/conda/lib/python3.8/site-packages (from torch_geometric) (3.1.2)\n",
      "Requirement already satisfied: scipy in /opt/conda/lib/python3.8/site-packages (from torch_geometric) (1.6.3)\n",
      "Requirement already satisfied: psutil>=5.8.0 in /opt/conda/lib/python3.8/site-packages (from torch_geometric) (5.9.1)\n",
      "Requirement already satisfied: scikit-learn in /opt/conda/lib/python3.8/site-packages (from torch_geometric) (0.24.2)\n",
      "Requirement already satisfied: pyparsing in /opt/conda/lib/python3.8/site-packages (from torch_geometric) (3.0.9)\n",
      "Requirement already satisfied: tqdm in /opt/conda/lib/python3.8/site-packages (from torch_geometric) (4.64.0)\n",
      "Requirement already satisfied: MarkupSafe>=2.0 in /opt/conda/lib/python3.8/site-packages (from jinja2->torch_geometric) (2.1.1)\n",
      "Requirement already satisfied: charset-normalizer~=2.0.0 in /opt/conda/lib/python3.8/site-packages (from requests->torch_geometric) (2.0.12)\n",
      "Requirement already satisfied: certifi>=2017.4.17 in /opt/conda/lib/python3.8/site-packages (from requests->torch_geometric) (2022.5.18.1)\n",
      "Requirement already satisfied: urllib3<1.27,>=1.21.1 in /opt/conda/lib/python3.8/site-packages (from requests->torch_geometric) (1.26.9)\n",
      "Requirement already satisfied: idna<4,>=2.5 in /opt/conda/lib/python3.8/site-packages (from requests->torch_geometric) (3.3)\n",
      "Requirement already satisfied: joblib>=0.11 in /opt/conda/lib/python3.8/site-packages (from scikit-learn->torch_geometric) (1.1.0)\n",
      "Requirement already satisfied: threadpoolctl>=2.0.0 in /opt/conda/lib/python3.8/site-packages (from scikit-learn->torch_geometric) (3.1.0)\n",
      "\u001b[33mWARNING: Running pip as the 'root' user can result in broken permissions and conflicting behaviour with the system package manager. It is recommended to use a virtual environment instead: https://pip.pypa.io/warnings/venv\u001b[0m\n"
     ]
    }
   ],
   "source": [
    "!pip install torch_geometric"
   ]
  },
  {
   "cell_type": "code",
   "execution_count": 35,
   "id": "3117d63d",
   "metadata": {},
   "outputs": [],
   "source": [
    "import torch\n",
    "from torch_geometric.data import Data\n",
    "# Create node features tensor\n",
    "x = torch.tensor(combined_embeddings_pca_source, dtype=torch.float)\n",
    "y = torch.tensor(combined_embeddings_pca_target, dtype=torch.float)\n",
    "\n",
    "# Create dictionary mapping node labels to node indices\n",
    "node_indices = {node_label: i for i, node_label in enumerate(set(da['source']).union(set(da['target'])))}\n",
    "\n",
    "\n",
    "# Create matrix of edge indices\n",
    "edge_indices = torch.tensor([(node_indices[source], node_indices[target]) for source, target in zip(da['source'], da['target'])], dtype=torch.long).t()\n",
    "\n",
    "# Create tensor of edge weights\n",
    "edge_weights = torch.tensor(da['weight'].values, dtype=torch.float)\n",
    "\n",
    "# Create PyTorch Geometric Data object with edge weights\n",
    "data = Data(x=x, edge_index=edge_indices, edge_attr=edge_weights)\n",
    "\n",
    "data.y = y\n"
   ]
  },
  {
   "cell_type": "code",
   "execution_count": 36,
   "id": "f48f634b",
   "metadata": {},
   "outputs": [
    {
     "data": {
      "text/plain": [
       "Data(x=[32655, 448], edge_index=[2, 32655], edge_attr=[32655], y=[32655, 448])"
      ]
     },
     "execution_count": 36,
     "metadata": {},
     "output_type": "execute_result"
    }
   ],
   "source": [
    "data"
   ]
  },
  {
   "cell_type": "code",
   "execution_count": 37,
   "id": "790ab20e",
   "metadata": {},
   "outputs": [],
   "source": [
    "num_nodes = data.num_nodes\n",
    "indices = torch.arange(num_nodes)\n",
    "shuffled_indices = torch.randperm(num_nodes)\n",
    "\n",
    "train_indices = shuffled_indices[:int(num_nodes * 0.6)]\n",
    "val_indices = shuffled_indices[int(num_nodes * 0.6):int(num_nodes * 0.8)]\n",
    "test_indices = shuffled_indices[int(num_nodes * 0.8):]\n",
    "\n",
    "train_mask = torch.zeros(num_nodes, dtype=torch.bool)\n",
    "train_mask[train_indices] = 1\n",
    "\n",
    "val_mask = torch.zeros(num_nodes, dtype=torch.bool)\n",
    "val_mask[val_indices] = 1\n",
    "\n",
    "test_mask = torch.zeros(num_nodes, dtype=torch.bool)\n",
    "test_mask[test_indices] = 1\n",
    "\n",
    "data.train_mask = train_mask\n",
    "data.val_mask = val_mask\n",
    "data.test_mask = test_mask"
   ]
  },
  {
   "cell_type": "code",
   "execution_count": 38,
   "id": "055743ec",
   "metadata": {},
   "outputs": [
    {
     "data": {
      "text/plain": [
       "Data(x=[32655, 448], edge_index=[2, 32655], edge_attr=[32655], y=[32655, 448], train_mask=[32655], val_mask=[32655], test_mask=[32655])"
      ]
     },
     "execution_count": 38,
     "metadata": {},
     "output_type": "execute_result"
    }
   ],
   "source": [
    "data"
   ]
  },
  {
   "cell_type": "code",
   "execution_count": 39,
   "id": "051afa05",
   "metadata": {},
   "outputs": [],
   "source": [
    "import torch\n",
    "import torch.nn.functional as F\n",
    "from torch_geometric.nn import GCNConv\n",
    "\n",
    "# Define the GCN model for regression\n",
    "class GCNRegression(torch.nn.Module):\n",
    "    def __init__(self, in_channels, hidden_channels, out_channels):\n",
    "        super(GCNRegression, self).__init__()\n",
    "        self.conv1 = GCNConv(in_channels, hidden_channels)\n",
    "        self.conv2 = GCNConv(hidden_channels, out_channels)\n",
    "    \n",
    "    def forward(self, x, edge_index):\n",
    "        x = self.conv1(x, edge_index)\n",
    "        x = F.relu(x)\n",
    "        x = self.conv2(x, edge_index)\n",
    "        return x\n"
   ]
  },
  {
   "cell_type": "code",
   "execution_count": 40,
   "id": "63de31ea",
   "metadata": {},
   "outputs": [],
   "source": [
    "# Define the training loop\n",
    "def train(model, optimizer, data):\n",
    "    model.train()\n",
    "    optimizer.zero_grad()\n",
    "    out = model(data.x, data.edge_index)\n",
    "    loss = F.mse_loss(out[data.train_mask], data.y[data.train_mask])\n",
    "    loss.backward()\n",
    "    optimizer.step()\n",
    "    return loss.item()"
   ]
  },
  {
   "cell_type": "code",
   "execution_count": 41,
   "id": "f9908c88",
   "metadata": {},
   "outputs": [
    {
     "name": "stdout",
     "output_type": "stream",
     "text": [
      "Epoch 10, Loss: 2.0130\n",
      "Epoch 20, Loss: 1.9434\n",
      "Epoch 30, Loss: 1.8769\n",
      "Epoch 40, Loss: 1.8388\n",
      "Epoch 50, Loss: 1.8145\n",
      "Epoch 60, Loss: 1.7980\n",
      "Epoch 70, Loss: 1.7860\n",
      "Epoch 80, Loss: 1.7770\n",
      "Epoch 90, Loss: 1.7700\n",
      "Epoch 100, Loss: 1.7643\n",
      "Epoch 110, Loss: 1.7596\n",
      "Epoch 120, Loss: 1.7556\n",
      "Epoch 130, Loss: 1.7523\n",
      "Epoch 140, Loss: 1.7494\n",
      "Epoch 150, Loss: 1.7470\n",
      "Epoch 160, Loss: 1.7451\n",
      "Epoch 170, Loss: 1.7433\n",
      "Epoch 180, Loss: 1.7417\n",
      "Epoch 190, Loss: 1.7402\n",
      "Epoch 200, Loss: 1.7394\n"
     ]
    }
   ],
   "source": [
    "# Load the data and model, and train the model\n",
    "device = torch.device('cuda' if torch.cuda.is_available() else 'cpu')\n",
    "data = data.to(device)\n",
    "model = GCNRegression(data.num_node_features, 256, data.num_node_features).to(device)\n",
    "optimizer = torch.optim.Adam(model.parameters(), lr=0.01, weight_decay=5e-4)\n",
    "losses=[]\n",
    "for epoch in range(1, 201):\n",
    "    loss = train(model, optimizer, data)\n",
    "    losses.append(loss)\n",
    "    if epoch%10==0:\n",
    "        print(f'Epoch {epoch}, Loss: {loss:.4f}')"
   ]
  },
  {
   "cell_type": "code",
   "execution_count": 42,
   "id": "f9029d1a",
   "metadata": {},
   "outputs": [
    {
     "name": "stderr",
     "output_type": "stream",
     "text": [
      "findfont: Font family ['xkcd', 'xkcd Script', 'Humor Sans', 'Comic Neue', 'Comic Sans MS'] not found. Falling back to DejaVu Sans.\n"
     ]
    },
    {
     "data": {
      "image/png": "[encoded data removed]",
      "text/plain": [
       "<Figure size 432x288 with 1 Axes>"
      ]
     },
     "metadata": {
      "needs_background": "light"
     },
     "output_type": "display_data"
    }
   ],
   "source": [
    "import matplotlib.pyplot as plt\n",
    "with plt.xkcd():\n",
    "    plt.plot(losses)"
   ]
  },
  {
   "cell_type": "code",
   "execution_count": 43,
   "id": "5a794422",
   "metadata": {},
   "outputs": [
    {
     "name": "stdout",
     "output_type": "stream",
     "text": [
      "Test Loss: 1.8905\n"
     ]
    }
   ],
   "source": [
    "# Evaluate the model on the test set\n",
    "model.eval()\n",
    "with torch.no_grad():\n",
    "    out = model(data.x, data.edge_index)\n",
    "    test_loss = F.mse_loss(out[data.test_mask], data.y[data.test_mask])\n",
    "    print(f'Test Loss: {test_loss:.4f}')"
   ]
  },
  {
   "cell_type": "code",
   "execution_count": null,
   "id": "a0784751",
   "metadata": {},
   "outputs": [],
   "source": []
  },
  {
   "cell_type": "code",
   "execution_count": null,
   "id": "78f5fc9e",
   "metadata": {},
   "outputs": [],
   "source": []
  }
 ],
 "metadata": {
  "kernelspec": {
   "display_name": "Python 3 (ipykernel)",
   "language": "python",
   "name": "python3"
  },
  "language_info": {
   "codemirror_mode": {
    "name": "ipython",
    "version": 3
   },
   "file_extension": ".py",
   "mimetype": "text/x-python",
   "name": "python",
   "nbconvert_exporter": "python",
   "pygments_lexer": "ipython3",
   "version": "3.8.13"
  }
 },
 "nbformat": 4,
 "nbformat_minor": 5
}
